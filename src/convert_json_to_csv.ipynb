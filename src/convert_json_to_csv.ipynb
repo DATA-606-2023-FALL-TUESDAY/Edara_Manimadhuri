{
 "cells": [
  {
   "cell_type": "code",
   "execution_count": null,
   "id": "703718eb",
   "metadata": {},
   "outputs": [],
   "source": [
    "import json\n",
    "import csv\n",
    "\n",
    "# Specify the input JSON file and output CSV file\n",
    "input_json_file = r\"Grocery_and_Gourmet_Food_5.json\"\n",
    "output_csv_file = r'dataset_Grocery_and_Gourmet_Food.csv'\n",
    "\n",
    "# Open the CSV file for writing with 'utf-8' encoding\n",
    "with open(output_csv_file, 'w', newline='', encoding='utf-8') as csv_file:\n",
    "    # Create a CSV writer with the specified column headings\n",
    "    writer = csv.writer(csv_file)\n",
    "    writer.writerow(['reviewerID', 'asin', 'reviewerName', 'helpful', 'reviewText', 'overall', 'summary', 'unixReviewTime', 'reviewTime'])\n",
    "\n",
    "    # Open the JSON file for reading with the correct encoding\n",
    "    with open(input_json_file, 'r', encoding='utf-8') as json_file:\n",
    "        for line in json_file:\n",
    "            try:\n",
    "                # Parse each line as a JSON object\n",
    "                data = json.loads(line)\n",
    "                \n",
    "                # Check if the JSON data is a dictionary (assuming each line is a dictionary)\n",
    "                if isinstance(data, dict):\n",
    "                    # Extract values from the JSON object and handle missing keys\n",
    "                    reviewer_id = data.get('reviewerID', '')\n",
    "                    product_id = data.get('asin', '')\n",
    "                    reviewer_name = data.get('reviewerName', '')\n",
    "                    helpful = data.get('helpful', '')\n",
    "                    review_body = data.get('reviewText', '')\n",
    "                    stars = data.get('overall', '')\n",
    "                    review_title = data.get('summary', '')\n",
    "                    unix_review_time = data.get('unixReviewTime', '')\n",
    "                    review_time = data.get('reviewTime', '')\n",
    "                    \n",
    "                    # Write the extracted values to the CSV file\n",
    "                    writer.writerow([reviewer_id, product_id, reviewer_name, helpful, review_body, stars, review_title, unix_review_time, review_time])\n",
    "            except json.JSONDecodeError:\n",
    "                # Handle invalid JSON lines or errors as needed\n",
    "                pass\n",
    "\n",
    "print(f\"Conversion completed. JSON data from '{input_json_file}' has been written to '{output_csv_file}' in CSV format.\")\n"
   ]
  }
 ],
 "metadata": {
  "kernelspec": {
   "display_name": "Python 3 (ipykernel)",
   "language": "python",
   "name": "python3"
  },
  "language_info": {
   "codemirror_mode": {
    "name": "ipython",
    "version": 3
   },
   "file_extension": ".py",
   "mimetype": "text/x-python",
   "name": "python",
   "nbconvert_exporter": "python",
   "pygments_lexer": "ipython3",
   "version": "3.9.12"
  }
 },
 "nbformat": 4,
 "nbformat_minor": 5
}
