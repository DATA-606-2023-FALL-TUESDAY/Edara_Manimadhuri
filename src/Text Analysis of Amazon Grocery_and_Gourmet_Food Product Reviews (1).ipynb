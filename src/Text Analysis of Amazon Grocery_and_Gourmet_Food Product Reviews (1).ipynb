{
 "cells": [
  {
   "cell_type": "markdown",
   "id": "8c3b1ef7",
   "metadata": {},
   "source": [
    "# Text Analysis of Amazon Grocery_and_Gourmet_Food Product Reviews."
   ]
  },
  {
   "cell_type": "markdown",
   "id": "b80a5f6e",
   "metadata": {},
   "source": [
    "###### Name : Manimadhuri Edara\n",
    "###### GitHub profile: https://github.com/MANIMADHURIE\n",
    "###### LinkedIn progile: https://www.linkedin.com/in/manimadhuriedara/"
   ]
  },
  {
   "cell_type": "markdown",
   "id": "8e5cc885",
   "metadata": {},
   "source": [
    "The Amazon Grocery_and_Gourmet_Food Reviews dataset consists of reviews of Grocery_and_Gourmet foods from Amazon. The data span a period of more than 10 years, including all ~500,000 reviews. Reviews include product and user information, ratings, and a plaintext review.\n",
    "\n",
    "<img src=\"https://assets.aboutamazon.com/dims4/default/e1f08b0/2147483647/strip/true/crop/1279x720+0+0/resize/1320x743!/format/webp/quality/90/?url=https%3A%2F%2Famazon-blogs-brightspot.s3.amazonaws.com%2Ff5%2F9f%2F43fe106c4a5081e7a696ef0a8fa8%2Ffresh-1280x7201.jpg\" width=\"400\">\n",
    "\n",
    "##### Source of the Dataset : https://cseweb.ucsd.edu/~jmcauley/datasets/amazon_v2/"
   ]
  },
  {
   "cell_type": "markdown",
   "id": "b596f878",
   "metadata": {},
   "source": [
    "##### Necessary frameworks"
   ]
  },
  {
   "cell_type": "code",
   "execution_count": 20,
   "id": "b7157f18",
   "metadata": {},
   "outputs": [],
   "source": [
    "import pandas as pd  # Data manipulation and analysis\n",
    "import numpy as np  # Numerical computing\n",
    "import matplotlib.pyplot as plt  # Data visualization\n",
    "import seaborn as sns  # Enhanced data visualization\n",
    "from tabulate import tabulate  # Tabular data formatting\n",
    "import os  # Operating system utilities\n",
    "import nltk  # Natural Language Toolkit for text processing\n",
    "import re  # Regular expressions for text manipulation\n",
    "from sklearn.feature_extraction.text import CountVectorizer, TfidfVectorizer  # Text vectorization\n",
    "from sklearn.preprocessing import StandardScaler  # Data scaling\n",
    "from tqdm import tqdm  # Progress bars\n",
    "from sklearn.manifold import TSNE  # Dimensionality reduction\n",
    "from imblearn.over_sampling import RandomOverSampler, SMOTE  # Imbalanced data handling\n",
    "from sklearn.metrics import accuracy_score, f1_score, classification_report  # Evaluation metrics\n",
    "from sklearn.model_selection import cross_val_score  # Cross-validation\n",
    "from sklearn.metrics import confusion_matrix  # Confusion matrix\n",
    "from sklearn.neighbors import KNeighborsClassifier  # K-Nearest Neighbors classifier\n",
    "from sklearn.decomposition import TruncatedSVD, PCA  # Dimensionality reduction techniques\n",
    "from transformers import BertTokenizer, AutoTokenizer  # Transformers for NLP\n",
    "import pandas_profiling as pdp  # Pandas profiling for data exploration"
   ]
  },
  {
   "cell_type": "markdown",
   "id": "51c402af",
   "metadata": {},
   "source": [
    "## **Data Cleaning & Analysis**"
   ]
  },
  {
   "cell_type": "code",
   "execution_count": 21,
   "id": "9dd8af43",
   "metadata": {},
   "outputs": [],
   "source": [
    "def explore_dataset(data, data_filename=None):\n",
    "    \"\"\"\n",
    "    We learn every detail listed below in the explore_dataset method:\n",
    "    - Shape of dataset\n",
    "    - Column names that exist in dataset\n",
    "    - checking for Missing values \n",
    "    - Overall information about dataset using info() method\n",
    "    - Datatypes of columns\n",
    "    \"\"\"\n",
    "    print(\"=\"*100)\n",
    "    print(\"\\t\\t\\tEDA Dataset: {}\".format(data_filename))\n",
    "    print(\"=\"*100)\n",
    "    print(\"Total Rows: {}\".format(data.shape[0]))\n",
    "    print(\"\\nTotal Columns: {}\".format(data.shape[1]))\n",
    "    print(\"\\nColumns: {}\".format(data.columns.tolist()))\n",
    "    print(\"\\nTotal Null Values: {}\".format(data.isnull().sum().sum()))\n",
    "    print(data.isnull().sum())\n",
    "    print(\" \")\n",
    "    print(\"\\t\\tOverall Information about Dataset\\n\")\n",
    "    print(data.info())\n",
    "    print(\" \")\n",
    "    print(\"\\t\\tDtype of all Columns\\n\")\n",
    "    print(data.dtypes)"
   ]
  },
  {
   "cell_type": "code",
   "execution_count": 22,
   "id": "2e7a6937",
   "metadata": {},
   "outputs": [],
   "source": [
    "filename = \"dataset_Grocery_and_Gourmet_Food.csv\"\n",
    "df = pd.read_csv(filename)"
   ]
  },
  {
   "cell_type": "code",
   "execution_count": 23,
   "id": "becb6a2f",
   "metadata": {
    "scrolled": true
   },
   "outputs": [
    {
     "name": "stdout",
     "output_type": "stream",
     "text": [
      "====================================================================================================\n",
      "\t\t\tEDA Dataset: dataset_Grocery_and_Gourmet_Food.csv\n",
      "====================================================================================================\n",
      "Total Rows: 151254\n",
      "\n",
      "Total Columns: 9\n",
      "\n",
      "Columns: ['reviewerID', 'asin', 'reviewerName', 'helpful', 'reviewText', 'overall', 'summary', 'unixReviewTime', 'reviewTime']\n",
      "\n",
      "Total Null Values: 1515\n",
      "reviewerID           0\n",
      "asin                 0\n",
      "reviewerName      1493\n",
      "helpful              0\n",
      "reviewText          22\n",
      "overall              0\n",
      "summary              0\n",
      "unixReviewTime       0\n",
      "reviewTime           0\n",
      "dtype: int64\n",
      " \n",
      "\t\tOverall Information about Dataset\n",
      "\n",
      "<class 'pandas.core.frame.DataFrame'>\n",
      "RangeIndex: 151254 entries, 0 to 151253\n",
      "Data columns (total 9 columns):\n",
      " #   Column          Non-Null Count   Dtype  \n",
      "---  ------          --------------   -----  \n",
      " 0   reviewerID      151254 non-null  object \n",
      " 1   asin            151254 non-null  object \n",
      " 2   reviewerName    149761 non-null  object \n",
      " 3   helpful         151254 non-null  object \n",
      " 4   reviewText      151232 non-null  object \n",
      " 5   overall         151254 non-null  float64\n",
      " 6   summary         151254 non-null  object \n",
      " 7   unixReviewTime  151254 non-null  int64  \n",
      " 8   reviewTime      151254 non-null  object \n",
      "dtypes: float64(1), int64(1), object(7)\n",
      "memory usage: 10.4+ MB\n",
      "None\n",
      " \n",
      "\t\tDtype of all Columns\n",
      "\n",
      "reviewerID         object\n",
      "asin               object\n",
      "reviewerName       object\n",
      "helpful            object\n",
      "reviewText         object\n",
      "overall           float64\n",
      "summary            object\n",
      "unixReviewTime      int64\n",
      "reviewTime         object\n",
      "dtype: object\n"
     ]
    }
   ],
   "source": [
    "# lets check the information of dataset\n",
    "explore_dataset(df,filename)"
   ]
  },
  {
   "cell_type": "code",
   "execution_count": 24,
   "id": "1a98a18d",
   "metadata": {
    "scrolled": true
   },
   "outputs": [
    {
     "data": {
      "text/html": [
       "<div>\n",
       "<style scoped>\n",
       "    .dataframe tbody tr th:only-of-type {\n",
       "        vertical-align: middle;\n",
       "    }\n",
       "\n",
       "    .dataframe tbody tr th {\n",
       "        vertical-align: top;\n",
       "    }\n",
       "\n",
       "    .dataframe thead th {\n",
       "        text-align: right;\n",
       "    }\n",
       "</style>\n",
       "<table border=\"1\" class=\"dataframe\">\n",
       "  <thead>\n",
       "    <tr style=\"text-align: right;\">\n",
       "      <th></th>\n",
       "      <th>reviewerID</th>\n",
       "      <th>asin</th>\n",
       "      <th>reviewerName</th>\n",
       "      <th>helpful</th>\n",
       "      <th>reviewText</th>\n",
       "      <th>overall</th>\n",
       "      <th>summary</th>\n",
       "      <th>unixReviewTime</th>\n",
       "      <th>reviewTime</th>\n",
       "    </tr>\n",
       "  </thead>\n",
       "  <tbody>\n",
       "    <tr>\n",
       "      <th>0</th>\n",
       "      <td>A1VEELTKS8NLZB</td>\n",
       "      <td>616719923X</td>\n",
       "      <td>Amazon Customer</td>\n",
       "      <td>[0, 0]</td>\n",
       "      <td>Just another flavor of Kit Kat but the taste i...</td>\n",
       "      <td>4.0</td>\n",
       "      <td>Good Taste</td>\n",
       "      <td>1370044800</td>\n",
       "      <td>06 1, 2013</td>\n",
       "    </tr>\n",
       "    <tr>\n",
       "      <th>1</th>\n",
       "      <td>A14R9XMZVJ6INB</td>\n",
       "      <td>616719923X</td>\n",
       "      <td>amf0001</td>\n",
       "      <td>[0, 1]</td>\n",
       "      <td>I bought this on impulse and it comes from Jap...</td>\n",
       "      <td>3.0</td>\n",
       "      <td>3.5 stars,  sadly not as wonderful as I had hoped</td>\n",
       "      <td>1400457600</td>\n",
       "      <td>05 19, 2014</td>\n",
       "    </tr>\n",
       "    <tr>\n",
       "      <th>2</th>\n",
       "      <td>A27IQHDZFQFNGG</td>\n",
       "      <td>616719923X</td>\n",
       "      <td>Caitlin</td>\n",
       "      <td>[3, 4]</td>\n",
       "      <td>Really good. Great gift for any fan of green t...</td>\n",
       "      <td>4.0</td>\n",
       "      <td>Yum!</td>\n",
       "      <td>1381190400</td>\n",
       "      <td>10 8, 2013</td>\n",
       "    </tr>\n",
       "    <tr>\n",
       "      <th>3</th>\n",
       "      <td>A31QY5TASILE89</td>\n",
       "      <td>616719923X</td>\n",
       "      <td>DebraDownSth</td>\n",
       "      <td>[0, 0]</td>\n",
       "      <td>I had never had it before, was curious to see ...</td>\n",
       "      <td>5.0</td>\n",
       "      <td>Unexpected flavor meld</td>\n",
       "      <td>1369008000</td>\n",
       "      <td>05 20, 2013</td>\n",
       "    </tr>\n",
       "    <tr>\n",
       "      <th>4</th>\n",
       "      <td>A2LWK003FFMCI5</td>\n",
       "      <td>616719923X</td>\n",
       "      <td>Diana X.</td>\n",
       "      <td>[1, 2]</td>\n",
       "      <td>I've been looking forward to trying these afte...</td>\n",
       "      <td>4.0</td>\n",
       "      <td>Not a very strong tea flavor, but still yummy ...</td>\n",
       "      <td>1369526400</td>\n",
       "      <td>05 26, 2013</td>\n",
       "    </tr>\n",
       "  </tbody>\n",
       "</table>\n",
       "</div>"
      ],
      "text/plain": [
       "       reviewerID        asin     reviewerName helpful  \\\n",
       "0  A1VEELTKS8NLZB  616719923X  Amazon Customer  [0, 0]   \n",
       "1  A14R9XMZVJ6INB  616719923X          amf0001  [0, 1]   \n",
       "2  A27IQHDZFQFNGG  616719923X          Caitlin  [3, 4]   \n",
       "3  A31QY5TASILE89  616719923X     DebraDownSth  [0, 0]   \n",
       "4  A2LWK003FFMCI5  616719923X         Diana X.  [1, 2]   \n",
       "\n",
       "                                          reviewText  overall  \\\n",
       "0  Just another flavor of Kit Kat but the taste i...      4.0   \n",
       "1  I bought this on impulse and it comes from Jap...      3.0   \n",
       "2  Really good. Great gift for any fan of green t...      4.0   \n",
       "3  I had never had it before, was curious to see ...      5.0   \n",
       "4  I've been looking forward to trying these afte...      4.0   \n",
       "\n",
       "                                             summary  unixReviewTime  \\\n",
       "0                                         Good Taste      1370044800   \n",
       "1  3.5 stars,  sadly not as wonderful as I had hoped      1400457600   \n",
       "2                                               Yum!      1381190400   \n",
       "3                             Unexpected flavor meld      1369008000   \n",
       "4  Not a very strong tea flavor, but still yummy ...      1369526400   \n",
       "\n",
       "    reviewTime  \n",
       "0   06 1, 2013  \n",
       "1  05 19, 2014  \n",
       "2   10 8, 2013  \n",
       "3  05 20, 2013  \n",
       "4  05 26, 2013  "
      ]
     },
     "execution_count": 24,
     "metadata": {},
     "output_type": "execute_result"
    }
   ],
   "source": [
    "df.head()"
   ]
  },
  {
   "cell_type": "code",
   "execution_count": 25,
   "id": "e7b1a2d1",
   "metadata": {},
   "outputs": [],
   "source": [
    "# Convert 'reviewTime' column to datetime\n",
    "df['reviewTime'] = pd.to_datetime(df['reviewTime'])"
   ]
  },
  {
   "cell_type": "code",
   "execution_count": 26,
   "id": "b8ce5bca",
   "metadata": {},
   "outputs": [
    {
     "name": "stdout",
     "output_type": "stream",
     "text": [
      "\n",
      "Dtype of all Columns\n",
      "reviewerID                object\n",
      "asin                      object\n",
      "reviewerName              object\n",
      "helpful                   object\n",
      "reviewText                object\n",
      "overall                  float64\n",
      "summary                   object\n",
      "unixReviewTime             int64\n",
      "reviewTime        datetime64[ns]\n",
      "dtype: object\n"
     ]
    }
   ],
   "source": [
    "print(\"\\nDtype of all Columns\")\n",
    "print(df.dtypes)"
   ]
  },
  {
   "cell_type": "markdown",
   "id": "bce6ab4e",
   "metadata": {},
   "source": [
    "#### Cleansing: Missing values"
   ]
  },
  {
   "cell_type": "code",
   "execution_count": 27,
   "id": "2f4f4358",
   "metadata": {
    "scrolled": true
   },
   "outputs": [
    {
     "data": {
      "text/plain": [
       "reviewerID           0\n",
       "asin                 0\n",
       "reviewerName      1493\n",
       "helpful              0\n",
       "reviewText          22\n",
       "overall              0\n",
       "summary              0\n",
       "unixReviewTime       0\n",
       "reviewTime           0\n",
       "dtype: int64"
      ]
     },
     "execution_count": 27,
     "metadata": {},
     "output_type": "execute_result"
    }
   ],
   "source": [
    "df.isnull().sum()"
   ]
  },
  {
   "cell_type": "code",
   "execution_count": 28,
   "id": "34c35afe",
   "metadata": {},
   "outputs": [],
   "source": [
    "# Check for missing values\n",
    "total_missing = df.isnull().sum()"
   ]
  },
  {
   "cell_type": "code",
   "execution_count": 29,
   "id": "2a8e4694",
   "metadata": {},
   "outputs": [
    {
     "name": "stdout",
     "output_type": "stream",
     "text": [
      "Columns with Missing Values:\n",
      "reviewerName    1493\n",
      "reviewText        22\n",
      "dtype: int64\n"
     ]
    }
   ],
   "source": [
    "# Display the columns with missing values\n",
    "print(\"Columns with Missing Values:\")\n",
    "print(total_missing[total_missing > 0])"
   ]
  },
  {
   "cell_type": "code",
   "execution_count": 30,
   "id": "83451e4e",
   "metadata": {},
   "outputs": [],
   "source": [
    "# Imputing Missing Values with appropriate placeholders.\n",
    "\n",
    "df['reviewerName'].fillna('Unknown', inplace=True)\n",
    "df['reviewText'].fillna('No review available', inplace=True)"
   ]
  },
  {
   "cell_type": "code",
   "execution_count": 31,
   "id": "faf144db",
   "metadata": {
    "scrolled": false
   },
   "outputs": [
    {
     "data": {
      "text/plain": [
       "reviewerID        0\n",
       "asin              0\n",
       "reviewerName      0\n",
       "helpful           0\n",
       "reviewText        0\n",
       "overall           0\n",
       "summary           0\n",
       "unixReviewTime    0\n",
       "reviewTime        0\n",
       "dtype: int64"
      ]
     },
     "execution_count": 31,
     "metadata": {},
     "output_type": "execute_result"
    }
   ],
   "source": [
    "df.isnull().sum()"
   ]
  },
  {
   "cell_type": "markdown",
   "id": "2cbae537",
   "metadata": {},
   "source": [
    "#### Cleansing: Duplicate Rows"
   ]
  },
  {
   "cell_type": "code",
   "execution_count": 32,
   "id": "c4dce60e",
   "metadata": {},
   "outputs": [],
   "source": [
    "duplicate_count = df.duplicated().sum()"
   ]
  },
  {
   "cell_type": "code",
   "execution_count": 33,
   "id": "932abc8b",
   "metadata": {},
   "outputs": [
    {
     "name": "stdout",
     "output_type": "stream",
     "text": [
      "Count of duplicate rows: 0\n"
     ]
    }
   ],
   "source": [
    "print(f\"Count of duplicate rows: {duplicate_count}\")"
   ]
  },
  {
   "cell_type": "markdown",
   "id": "816e73c3",
   "metadata": {},
   "source": [
    "#### Statistical summary"
   ]
  },
  {
   "cell_type": "code",
   "execution_count": 34,
   "id": "29cd41c9",
   "metadata": {
    "scrolled": true
   },
   "outputs": [
    {
     "data": {
      "text/html": [
       "<div>\n",
       "<style scoped>\n",
       "    .dataframe tbody tr th:only-of-type {\n",
       "        vertical-align: middle;\n",
       "    }\n",
       "\n",
       "    .dataframe tbody tr th {\n",
       "        vertical-align: top;\n",
       "    }\n",
       "\n",
       "    .dataframe thead th {\n",
       "        text-align: right;\n",
       "    }\n",
       "</style>\n",
       "<table border=\"1\" class=\"dataframe\">\n",
       "  <thead>\n",
       "    <tr style=\"text-align: right;\">\n",
       "      <th></th>\n",
       "      <th>overall</th>\n",
       "      <th>unixReviewTime</th>\n",
       "    </tr>\n",
       "  </thead>\n",
       "  <tbody>\n",
       "    <tr>\n",
       "      <th>count</th>\n",
       "      <td>151254.000000</td>\n",
       "      <td>1.512540e+05</td>\n",
       "    </tr>\n",
       "    <tr>\n",
       "      <th>mean</th>\n",
       "      <td>4.243042</td>\n",
       "      <td>1.342909e+09</td>\n",
       "    </tr>\n",
       "    <tr>\n",
       "      <th>std</th>\n",
       "      <td>1.090003</td>\n",
       "      <td>5.375634e+07</td>\n",
       "    </tr>\n",
       "    <tr>\n",
       "      <th>min</th>\n",
       "      <td>1.000000</td>\n",
       "      <td>9.657792e+08</td>\n",
       "    </tr>\n",
       "    <tr>\n",
       "      <th>25%</th>\n",
       "      <td>4.000000</td>\n",
       "      <td>1.315440e+09</td>\n",
       "    </tr>\n",
       "    <tr>\n",
       "      <th>50%</th>\n",
       "      <td>5.000000</td>\n",
       "      <td>1.360368e+09</td>\n",
       "    </tr>\n",
       "    <tr>\n",
       "      <th>75%</th>\n",
       "      <td>5.000000</td>\n",
       "      <td>1.383955e+09</td>\n",
       "    </tr>\n",
       "    <tr>\n",
       "      <th>max</th>\n",
       "      <td>5.000000</td>\n",
       "      <td>1.406074e+09</td>\n",
       "    </tr>\n",
       "  </tbody>\n",
       "</table>\n",
       "</div>"
      ],
      "text/plain": [
       "             overall  unixReviewTime\n",
       "count  151254.000000    1.512540e+05\n",
       "mean        4.243042    1.342909e+09\n",
       "std         1.090003    5.375634e+07\n",
       "min         1.000000    9.657792e+08\n",
       "25%         4.000000    1.315440e+09\n",
       "50%         5.000000    1.360368e+09\n",
       "75%         5.000000    1.383955e+09\n",
       "max         5.000000    1.406074e+09"
      ]
     },
     "execution_count": 34,
     "metadata": {},
     "output_type": "execute_result"
    }
   ],
   "source": [
    "summary = df.describe()\n",
    "summary"
   ]
  },
  {
   "cell_type": "code",
   "execution_count": 35,
   "id": "f9dd3ce0",
   "metadata": {
    "scrolled": true
   },
   "outputs": [
    {
     "data": {
      "text/html": [
       "<div>\n",
       "<style scoped>\n",
       "    .dataframe tbody tr th:only-of-type {\n",
       "        vertical-align: middle;\n",
       "    }\n",
       "\n",
       "    .dataframe tbody tr th {\n",
       "        vertical-align: top;\n",
       "    }\n",
       "\n",
       "    .dataframe thead th {\n",
       "        text-align: right;\n",
       "    }\n",
       "</style>\n",
       "<table border=\"1\" class=\"dataframe\">\n",
       "  <thead>\n",
       "    <tr style=\"text-align: right;\">\n",
       "      <th></th>\n",
       "      <th>index</th>\n",
       "      <th>overall</th>\n",
       "    </tr>\n",
       "  </thead>\n",
       "  <tbody>\n",
       "    <tr>\n",
       "      <th>0</th>\n",
       "      <td>5.0</td>\n",
       "      <td>87446</td>\n",
       "    </tr>\n",
       "    <tr>\n",
       "      <th>1</th>\n",
       "      <td>4.0</td>\n",
       "      <td>32598</td>\n",
       "    </tr>\n",
       "    <tr>\n",
       "      <th>2</th>\n",
       "      <td>3.0</td>\n",
       "      <td>17514</td>\n",
       "    </tr>\n",
       "    <tr>\n",
       "      <th>3</th>\n",
       "      <td>2.0</td>\n",
       "      <td>7917</td>\n",
       "    </tr>\n",
       "    <tr>\n",
       "      <th>4</th>\n",
       "      <td>1.0</td>\n",
       "      <td>5779</td>\n",
       "    </tr>\n",
       "  </tbody>\n",
       "</table>\n",
       "</div>"
      ],
      "text/plain": [
       "   index  overall\n",
       "0    5.0    87446\n",
       "1    4.0    32598\n",
       "2    3.0    17514\n",
       "3    2.0     7917\n",
       "4    1.0     5779"
      ]
     },
     "execution_count": 35,
     "metadata": {},
     "output_type": "execute_result"
    }
   ],
   "source": [
    "Overall_rating = df['overall'].value_counts().reset_index()\n",
    "Overall_rating"
   ]
  },
  {
   "cell_type": "code",
   "execution_count": 36,
   "id": "398dc4c3",
   "metadata": {},
   "outputs": [
    {
     "data": {
      "image/png": "[encoded data removed]",
      "text/plain": [
       "<Figure size 500x400 with 1 Axes>"
      ]
     },
     "metadata": {},
     "output_type": "display_data"
    }
   ],
   "source": [
    "# Visualize the distribution of 'overall' ratings\n",
    "plt.figure(figsize=(5, 4))\n",
    "sns.countplot(data=df, x='overall')\n",
    "plt.title('Distribution of Overall Ratings')\n",
    "plt.xlabel('Overall Rating')\n",
    "plt.ylabel('Count')\n",
    "plt.show()"
   ]
  }
 ],
 "metadata": {
  "kernelspec": {
   "display_name": "Python 3 (ipykernel)",
   "language": "python",
   "name": "python3"
  },
  "language_info": {
   "codemirror_mode": {
    "name": "ipython",
    "version": 3
   },
   "file_extension": ".py",
   "mimetype": "text/x-python",
   "name": "python",
   "nbconvert_exporter": "python",
   "pygments_lexer": "ipython3",
   "version": "3.9.12"
  }
 },
 "nbformat": 4,
 "nbformat_minor": 5
}
